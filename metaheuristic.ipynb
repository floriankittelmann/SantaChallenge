{
 "cells": [
  {
   "cell_type": "markdown",
   "id": "f47e93ca-4ce2-4e4d-b0f2-024fe7cedde3",
   "metadata": {},
   "source": [
    "# General Idea\n",
    "\n",
    "Always pack the big packages first to make sure, that we dont make additional routes (backpack problem). Then first deliver the heavy packages because then we save distance with the biggest package. Fill up with smaller packages in the surrounded area.\n",
    "\n",
    "\t- Take the biggest packages, which is not assigned to a route yet\n",
    "\t- Find packages, which are not assigned yet, in same region as the selected biggest packages (if not enough packages in region make region bigger)\n",
    "\t- Create a route with beam search or other cunstructive methods (just add packages which still fit in the sleigh) (stop when no further packages fit in sleigh)\n",
    "\t- Make local improvements of route (eg. 2-opt or simulated annealing)\n",
    "\t- Loop until all packages are assigned to a route\n",
    "\t- Optimize globally (Tabu Search, Popmusic?)"
   ]
  },
  {
   "cell_type": "markdown",
   "id": "aabc807e-d00a-4f7c-9919-7398865fbef4",
   "metadata": {},
   "source": [
    "# Get Data from csv"
   ]
  },
  {
   "cell_type": "code",
   "execution_count": 1,
   "id": "ba5df362-ba7a-4c4f-b959-6295a4311a25",
   "metadata": {},
   "outputs": [
    {
     "data": {
      "text/html": [
       "<div>\n",
       "<style scoped>\n",
       "    .dataframe tbody tr th:only-of-type {\n",
       "        vertical-align: middle;\n",
       "    }\n",
       "\n",
       "    .dataframe tbody tr th {\n",
       "        vertical-align: top;\n",
       "    }\n",
       "\n",
       "    .dataframe thead th {\n",
       "        text-align: right;\n",
       "    }\n",
       "</style>\n",
       "<table border=\"1\" class=\"dataframe\">\n",
       "  <thead>\n",
       "    <tr style=\"text-align: right;\">\n",
       "      <th></th>\n",
       "      <th>GiftId</th>\n",
       "      <th>Latitude</th>\n",
       "      <th>Longitude</th>\n",
       "      <th>Weight</th>\n",
       "    </tr>\n",
       "  </thead>\n",
       "  <tbody>\n",
       "    <tr>\n",
       "      <th>0</th>\n",
       "      <td>1</td>\n",
       "      <td>16.345769</td>\n",
       "      <td>6.303545</td>\n",
       "      <td>1.000000</td>\n",
       "    </tr>\n",
       "    <tr>\n",
       "      <th>1</th>\n",
       "      <td>2</td>\n",
       "      <td>12.494749</td>\n",
       "      <td>28.626396</td>\n",
       "      <td>15.524480</td>\n",
       "    </tr>\n",
       "    <tr>\n",
       "      <th>2</th>\n",
       "      <td>3</td>\n",
       "      <td>27.794615</td>\n",
       "      <td>60.032495</td>\n",
       "      <td>8.058499</td>\n",
       "    </tr>\n",
       "    <tr>\n",
       "      <th>3</th>\n",
       "      <td>4</td>\n",
       "      <td>44.426992</td>\n",
       "      <td>110.114216</td>\n",
       "      <td>1.000000</td>\n",
       "    </tr>\n",
       "    <tr>\n",
       "      <th>4</th>\n",
       "      <td>5</td>\n",
       "      <td>-69.854088</td>\n",
       "      <td>87.946878</td>\n",
       "      <td>25.088892</td>\n",
       "    </tr>\n",
       "    <tr>\n",
       "      <th>...</th>\n",
       "      <td>...</td>\n",
       "      <td>...</td>\n",
       "      <td>...</td>\n",
       "      <td>...</td>\n",
       "    </tr>\n",
       "    <tr>\n",
       "      <th>99995</th>\n",
       "      <td>99996</td>\n",
       "      <td>-86.087115</td>\n",
       "      <td>-19.991474</td>\n",
       "      <td>10.927676</td>\n",
       "    </tr>\n",
       "    <tr>\n",
       "      <th>99996</th>\n",
       "      <td>99997</td>\n",
       "      <td>40.259124</td>\n",
       "      <td>-110.689749</td>\n",
       "      <td>9.347134</td>\n",
       "    </tr>\n",
       "    <tr>\n",
       "      <th>99997</th>\n",
       "      <td>99998</td>\n",
       "      <td>42.393016</td>\n",
       "      <td>0.011825</td>\n",
       "      <td>1.000000</td>\n",
       "    </tr>\n",
       "    <tr>\n",
       "      <th>99998</th>\n",
       "      <td>99999</td>\n",
       "      <td>-75.919193</td>\n",
       "      <td>-10.193532</td>\n",
       "      <td>1.000000</td>\n",
       "    </tr>\n",
       "    <tr>\n",
       "      <th>99999</th>\n",
       "      <td>100000</td>\n",
       "      <td>11.106159</td>\n",
       "      <td>40.230236</td>\n",
       "      <td>1.000000</td>\n",
       "    </tr>\n",
       "  </tbody>\n",
       "</table>\n",
       "<p>100000 rows × 4 columns</p>\n",
       "</div>"
      ],
      "text/plain": [
       "       GiftId   Latitude   Longitude     Weight\n",
       "0           1  16.345769    6.303545   1.000000\n",
       "1           2  12.494749   28.626396  15.524480\n",
       "2           3  27.794615   60.032495   8.058499\n",
       "3           4  44.426992  110.114216   1.000000\n",
       "4           5 -69.854088   87.946878  25.088892\n",
       "...       ...        ...         ...        ...\n",
       "99995   99996 -86.087115  -19.991474  10.927676\n",
       "99996   99997  40.259124 -110.689749   9.347134\n",
       "99997   99998  42.393016    0.011825   1.000000\n",
       "99998   99999 -75.919193  -10.193532   1.000000\n",
       "99999  100000  11.106159   40.230236   1.000000\n",
       "\n",
       "[100000 rows x 4 columns]"
      ]
     },
     "execution_count": 1,
     "metadata": {},
     "output_type": "execute_result"
    }
   ],
   "source": [
    "import pandas as pd\n",
    "df = pd.read_csv(\"data/gifts.csv\")\n",
    "df"
   ]
  },
  {
   "cell_type": "markdown",
   "id": "777a7b09-8f19-4207-9eba-3175cc96f3c8",
   "metadata": {},
   "source": [
    "# Get Record with max Weight"
   ]
  },
  {
   "cell_type": "code",
   "execution_count": 5,
   "id": "89848cc4-ccb3-49aa-bbeb-9ecf7be362fa",
   "metadata": {},
   "outputs": [
    {
     "data": {
      "text/plain": [
       "GiftId       77.000000\n",
       "Latitude     24.201344\n",
       "Longitude    76.124264\n",
       "Weight       50.000000\n",
       "Name: 76, dtype: float64"
      ]
     },
     "execution_count": 5,
     "metadata": {},
     "output_type": "execute_result"
    }
   ],
   "source": [
    "def getMax(df):\n",
    "    maxId = df[\"Weight\"].idxmax()\n",
    "    return df.loc[maxId]\n",
    "getMax(df)"
   ]
  },
  {
   "cell_type": "markdown",
   "id": "8e3527ec-d4d3-4dde-92ec-18ce0f5db301",
   "metadata": {},
   "source": [
    "# Get Records with weight smaller than x\n"
   ]
  },
  {
   "cell_type": "code",
   "execution_count": 6,
   "id": "fe7f7ced-c0bd-4f24-b7de-07746099877c",
   "metadata": {},
   "outputs": [
    {
     "data": {
      "text/html": [
       "<div>\n",
       "<style scoped>\n",
       "    .dataframe tbody tr th:only-of-type {\n",
       "        vertical-align: middle;\n",
       "    }\n",
       "\n",
       "    .dataframe tbody tr th {\n",
       "        vertical-align: top;\n",
       "    }\n",
       "\n",
       "    .dataframe thead th {\n",
       "        text-align: right;\n",
       "    }\n",
       "</style>\n",
       "<table border=\"1\" class=\"dataframe\">\n",
       "  <thead>\n",
       "    <tr style=\"text-align: right;\">\n",
       "      <th></th>\n",
       "      <th>GiftId</th>\n",
       "      <th>Latitude</th>\n",
       "      <th>Longitude</th>\n",
       "      <th>Weight</th>\n",
       "    </tr>\n",
       "  </thead>\n",
       "  <tbody>\n",
       "    <tr>\n",
       "      <th>0</th>\n",
       "      <td>1.0</td>\n",
       "      <td>16.345769</td>\n",
       "      <td>6.303545</td>\n",
       "      <td>1.000000</td>\n",
       "    </tr>\n",
       "    <tr>\n",
       "      <th>1</th>\n",
       "      <td>2.0</td>\n",
       "      <td>12.494749</td>\n",
       "      <td>28.626396</td>\n",
       "      <td>15.524480</td>\n",
       "    </tr>\n",
       "    <tr>\n",
       "      <th>2</th>\n",
       "      <td>3.0</td>\n",
       "      <td>27.794615</td>\n",
       "      <td>60.032495</td>\n",
       "      <td>8.058499</td>\n",
       "    </tr>\n",
       "    <tr>\n",
       "      <th>3</th>\n",
       "      <td>4.0</td>\n",
       "      <td>44.426992</td>\n",
       "      <td>110.114216</td>\n",
       "      <td>1.000000</td>\n",
       "    </tr>\n",
       "    <tr>\n",
       "      <th>4</th>\n",
       "      <td>5.0</td>\n",
       "      <td>-69.854088</td>\n",
       "      <td>87.946878</td>\n",
       "      <td>25.088892</td>\n",
       "    </tr>\n",
       "    <tr>\n",
       "      <th>...</th>\n",
       "      <td>...</td>\n",
       "      <td>...</td>\n",
       "      <td>...</td>\n",
       "      <td>...</td>\n",
       "    </tr>\n",
       "    <tr>\n",
       "      <th>99995</th>\n",
       "      <td>99996.0</td>\n",
       "      <td>-86.087115</td>\n",
       "      <td>-19.991474</td>\n",
       "      <td>10.927676</td>\n",
       "    </tr>\n",
       "    <tr>\n",
       "      <th>99996</th>\n",
       "      <td>99997.0</td>\n",
       "      <td>40.259124</td>\n",
       "      <td>-110.689749</td>\n",
       "      <td>9.347134</td>\n",
       "    </tr>\n",
       "    <tr>\n",
       "      <th>99997</th>\n",
       "      <td>99998.0</td>\n",
       "      <td>42.393016</td>\n",
       "      <td>0.011825</td>\n",
       "      <td>1.000000</td>\n",
       "    </tr>\n",
       "    <tr>\n",
       "      <th>99998</th>\n",
       "      <td>99999.0</td>\n",
       "      <td>-75.919193</td>\n",
       "      <td>-10.193532</td>\n",
       "      <td>1.000000</td>\n",
       "    </tr>\n",
       "    <tr>\n",
       "      <th>99999</th>\n",
       "      <td>100000.0</td>\n",
       "      <td>11.106159</td>\n",
       "      <td>40.230236</td>\n",
       "      <td>1.000000</td>\n",
       "    </tr>\n",
       "  </tbody>\n",
       "</table>\n",
       "<p>100000 rows × 4 columns</p>\n",
       "</div>"
      ],
      "text/plain": [
       "         GiftId   Latitude   Longitude     Weight\n",
       "0           1.0  16.345769    6.303545   1.000000\n",
       "1           2.0  12.494749   28.626396  15.524480\n",
       "2           3.0  27.794615   60.032495   8.058499\n",
       "3           4.0  44.426992  110.114216   1.000000\n",
       "4           5.0 -69.854088   87.946878  25.088892\n",
       "...         ...        ...         ...        ...\n",
       "99995   99996.0 -86.087115  -19.991474  10.927676\n",
       "99996   99997.0  40.259124 -110.689749   9.347134\n",
       "99997   99998.0  42.393016    0.011825   1.000000\n",
       "99998   99999.0 -75.919193  -10.193532   1.000000\n",
       "99999  100000.0  11.106159   40.230236   1.000000\n",
       "\n",
       "[100000 rows x 4 columns]"
      ]
     },
     "execution_count": 6,
     "metadata": {},
     "output_type": "execute_result"
    }
   ],
   "source": [
    "df.where(df[\"Weight\"] < 40)\n",
    "#df_test = df.where(df[\"Weight\"] < 40)\n",
    "#getMax(df_test)"
   ]
  },
  {
   "cell_type": "markdown",
   "id": "fffa9d4d-5339-4583-b11a-48f5ca5ed7bd",
   "metadata": {},
   "source": [
    "# Get Gifts which are not assigned to a route yet\n"
   ]
  },
  {
   "cell_type": "code",
   "execution_count": 7,
   "id": "d2f02a3c-f4bb-4d0c-9a0e-529b0a1f8fa3",
   "metadata": {},
   "outputs": [
    {
     "name": "stdout",
     "output_type": "stream",
     "text": [
      "df in route\n",
      "   GiftId   Latitude  Longitude     Weight\n",
      "0       1  16.345769   6.303545   1.000000\n",
      "1       2  12.494749  28.626396  15.524480\n",
      "2       3  27.794615  60.032495   8.058499\n",
      "4       5 -69.854088  87.946878  25.088892\n",
      "\n",
      "df not assigned yet\n",
      "       GiftId   Latitude   Longitude     Weight\n",
      "3           4  44.426992  110.114216   1.000000\n",
      "5           6  53.567970  -71.359308  38.000151\n",
      "6           7  12.902584   79.966949  44.206616\n",
      "7           8  -6.291099  -64.891751   1.000000\n",
      "8           9  -2.685316  111.089758   1.000000\n",
      "...       ...        ...         ...        ...\n",
      "99995   99996 -86.087115  -19.991474  10.927676\n",
      "99996   99997  40.259124 -110.689749   9.347134\n",
      "99997   99998  42.393016    0.011825   1.000000\n",
      "99998   99999 -75.919193  -10.193532   1.000000\n",
      "99999  100000  11.106159   40.230236   1.000000\n",
      "\n",
      "[99996 rows x 4 columns]\n"
     ]
    }
   ],
   "source": [
    "df_in_route = df.loc[df[\"GiftId\"].isin([1,2,3,5])]\n",
    "df_not_in_route = df.loc[~df[\"GiftId\"].isin(df_in_route[\"GiftId\"])]\n",
    "print(\"df in route\")\n",
    "print(df_in_route)\n",
    "print()\n",
    "print(\"df not assigned yet\")\n",
    "print(df_not_in_route)                    "
   ]
  },
  {
   "cell_type": "markdown",
   "id": "6a96b0e7-309a-40d8-95f8-f2f96253a76e",
   "metadata": {},
   "source": [
    "# Get sum of weight"
   ]
  },
  {
   "cell_type": "code",
   "execution_count": 8,
   "id": "9edf9039-ddd8-44fe-b350-529bbcc608a7",
   "metadata": {},
   "outputs": [
    {
     "data": {
      "text/plain": [
       "1409839.0980207277"
      ]
     },
     "execution_count": 8,
     "metadata": {},
     "output_type": "execute_result"
    }
   ],
   "source": [
    "df[\"Weight\"].sum()"
   ]
  },
  {
   "cell_type": "code",
   "execution_count": 32,
   "id": "c80da9c3-8227-45ba-bf56-7cb512b1873b",
   "metadata": {},
   "outputs": [
    {
     "data": {
      "text/html": [
       "<div>\n",
       "<style scoped>\n",
       "    .dataframe tbody tr th:only-of-type {\n",
       "        vertical-align: middle;\n",
       "    }\n",
       "\n",
       "    .dataframe tbody tr th {\n",
       "        vertical-align: top;\n",
       "    }\n",
       "\n",
       "    .dataframe thead th {\n",
       "        text-align: right;\n",
       "    }\n",
       "</style>\n",
       "<table border=\"1\" class=\"dataframe\">\n",
       "  <thead>\n",
       "    <tr style=\"text-align: right;\">\n",
       "      <th></th>\n",
       "      <th>GiftId</th>\n",
       "      <th>Latitude</th>\n",
       "      <th>Longitude</th>\n",
       "      <th>Weight</th>\n",
       "    </tr>\n",
       "  </thead>\n",
       "  <tbody>\n",
       "    <tr>\n",
       "      <th>76</th>\n",
       "      <td>77.0</td>\n",
       "      <td>24.201344</td>\n",
       "      <td>76.124264</td>\n",
       "      <td>50.000000</td>\n",
       "    </tr>\n",
       "    <tr>\n",
       "      <th>80</th>\n",
       "      <td>81.0</td>\n",
       "      <td>-5.593076</td>\n",
       "      <td>-43.790609</td>\n",
       "      <td>9.393121</td>\n",
       "    </tr>\n",
       "  </tbody>\n",
       "</table>\n",
       "</div>"
      ],
      "text/plain": [
       "    GiftId   Latitude  Longitude     Weight\n",
       "76    77.0  24.201344  76.124264  50.000000\n",
       "80    81.0  -5.593076 -43.790609   9.393121"
      ]
     },
     "execution_count": 32,
     "metadata": {},
     "output_type": "execute_result"
    }
   ],
   "source": [
    "df_to_append = pd.DataFrame()\n",
    "serie_to_append = getMax(df)\n",
    "serie_to_append_two = df.loc[80]\n",
    "df_to_append = df_to_append.append(serie_to_append)\n",
    "df_to_append.append(serie_to_append_two)"
   ]
  },
  {
   "cell_type": "code",
   "execution_count": 33,
   "id": "1817c5bd-5956-4762-9c78-34516bb209c0",
   "metadata": {},
   "outputs": [
    {
     "data": {
      "text/html": [
       "<div>\n",
       "<style scoped>\n",
       "    .dataframe tbody tr th:only-of-type {\n",
       "        vertical-align: middle;\n",
       "    }\n",
       "\n",
       "    .dataframe tbody tr th {\n",
       "        vertical-align: top;\n",
       "    }\n",
       "\n",
       "    .dataframe thead th {\n",
       "        text-align: right;\n",
       "    }\n",
       "</style>\n",
       "<table border=\"1\" class=\"dataframe\">\n",
       "  <thead>\n",
       "    <tr style=\"text-align: right;\">\n",
       "      <th></th>\n",
       "      <th>GiftId</th>\n",
       "      <th>Latitude</th>\n",
       "      <th>Longitude</th>\n",
       "      <th>Weight</th>\n",
       "    </tr>\n",
       "  </thead>\n",
       "  <tbody>\n",
       "    <tr>\n",
       "      <th>82</th>\n",
       "      <td>83.0</td>\n",
       "      <td>39.302155</td>\n",
       "      <td>105.919693</td>\n",
       "      <td>1.0</td>\n",
       "    </tr>\n",
       "    <tr>\n",
       "      <th>81</th>\n",
       "      <td>82.0</td>\n",
       "      <td>36.372848</td>\n",
       "      <td>118.536532</td>\n",
       "      <td>1.0</td>\n",
       "    </tr>\n",
       "  </tbody>\n",
       "</table>\n",
       "</div>"
      ],
      "text/plain": [
       "    GiftId   Latitude   Longitude  Weight\n",
       "82    83.0  39.302155  105.919693     1.0\n",
       "81    82.0  36.372848  118.536532     1.0"
      ]
     },
     "execution_count": 33,
     "metadata": {},
     "output_type": "execute_result"
    }
   ],
   "source": [
    "df_to_append_2 = pd.DataFrame()\n",
    "serie_to_append = df.loc[82]\n",
    "serie_to_append_two = df.loc[81]\n",
    "df_to_append_2 = df_to_append_2.append(serie_to_append)\n",
    "df_to_append_2.append(serie_to_append_two)"
   ]
  },
  {
   "cell_type": "code",
   "execution_count": 37,
   "id": "16f1b070-ab1b-4696-aba2-1bb62b489547",
   "metadata": {},
   "outputs": [
    {
     "data": {
      "text/html": [
       "<div>\n",
       "<style scoped>\n",
       "    .dataframe tbody tr th:only-of-type {\n",
       "        vertical-align: middle;\n",
       "    }\n",
       "\n",
       "    .dataframe tbody tr th {\n",
       "        vertical-align: top;\n",
       "    }\n",
       "\n",
       "    .dataframe thead th {\n",
       "        text-align: right;\n",
       "    }\n",
       "</style>\n",
       "<table border=\"1\" class=\"dataframe\">\n",
       "  <thead>\n",
       "    <tr style=\"text-align: right;\">\n",
       "      <th></th>\n",
       "      <th>GiftId</th>\n",
       "      <th>Latitude</th>\n",
       "      <th>Longitude</th>\n",
       "      <th>Weight</th>\n",
       "    </tr>\n",
       "  </thead>\n",
       "  <tbody>\n",
       "    <tr>\n",
       "      <th>82</th>\n",
       "      <td>83.0</td>\n",
       "      <td>39.302155</td>\n",
       "      <td>105.919693</td>\n",
       "      <td>1.0</td>\n",
       "    </tr>\n",
       "    <tr>\n",
       "      <th>76</th>\n",
       "      <td>77.0</td>\n",
       "      <td>24.201344</td>\n",
       "      <td>76.124264</td>\n",
       "      <td>50.0</td>\n",
       "    </tr>\n",
       "  </tbody>\n",
       "</table>\n",
       "</div>"
      ],
      "text/plain": [
       "    GiftId   Latitude   Longitude  Weight\n",
       "82    83.0  39.302155  105.919693     1.0\n",
       "76    77.0  24.201344   76.124264    50.0"
      ]
     },
     "execution_count": 37,
     "metadata": {},
     "output_type": "execute_result"
    }
   ],
   "source": [
    "df_to_append_2.append(df_to_append)"
   ]
  },
  {
   "cell_type": "code",
   "execution_count": 41,
   "id": "fe069d20-cbfb-4f96-801c-7ce6e93e19cd",
   "metadata": {},
   "outputs": [
    {
     "data": {
      "text/plain": [
       "50.0"
      ]
     },
     "execution_count": 41,
     "metadata": {},
     "output_type": "execute_result"
    }
   ],
   "source": [
    "df.loc[76]['Weight']"
   ]
  },
  {
   "cell_type": "code",
   "execution_count": 2,
   "id": "5b07a27d-d622-48a4-90dd-8cf700668303",
   "metadata": {},
   "outputs": [],
   "source": [
    "df_test = df\n",
    "df_test = df_test.where(df['GiftId'] != 83)"
   ]
  },
  {
   "cell_type": "code",
   "execution_count": 10,
   "id": "9e851d24-6d91-4683-a2c7-9779b7e6d60c",
   "metadata": {},
   "outputs": [
    {
     "data": {
      "text/plain": [
       "GiftId        1.000000\n",
       "Latitude     16.345769\n",
       "Longitude     6.303545\n",
       "Weight        1.000000\n",
       "Name: 0, dtype: float64"
      ]
     },
     "execution_count": 10,
     "metadata": {},
     "output_type": "execute_result"
    }
   ],
   "source": [
    "df_test.sample(ignore_index=True)\n",
    "df.loc[0]"
   ]
  },
  {
   "cell_type": "code",
   "execution_count": null,
   "id": "56743e04-788b-4941-bc86-8cac71e67d12",
   "metadata": {},
   "outputs": [],
   "source": []
  }
 ],
 "metadata": {
  "kernelspec": {
   "display_name": "Python 3 (ipykernel)",
   "language": "python",
   "name": "python3"
  },
  "language_info": {
   "codemirror_mode": {
    "name": "ipython",
    "version": 3
   },
   "file_extension": ".py",
   "mimetype": "text/x-python",
   "name": "python",
   "nbconvert_exporter": "python",
   "pygments_lexer": "ipython3",
   "version": "3.9.7"
  }
 },
 "nbformat": 4,
 "nbformat_minor": 5
}
